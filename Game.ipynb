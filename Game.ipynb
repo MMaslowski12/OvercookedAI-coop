{
 "cells": [
  {
   "cell_type": "code",
   "execution_count": 1,
   "metadata": {},
   "outputs": [
    {
     "name": "stdout",
     "output_type": "stream",
     "text": [
      "pygame 2.5.2 (SDL 2.28.3, Python 3.12.2)\n",
      "Hello from the pygame community. https://www.pygame.org/contribute.html\n"
     ]
    }
   ],
   "source": [
    "import pygame\n",
    "pygame.init()\n",
    "\n",
    "screen_width = 800\n",
    "screen_height = 600\n",
    "screen = pygame.display.set_mode((screen_width, screen_height))"
   ]
  },
  {
   "cell_type": "markdown",
   "metadata": {},
   "source": [
    "MVP\n",
    "- FLOOR\n",
    "- WALLS\n",
    "- PLAYERS\n",
    "- Collision mechanics\n",
    "- RESOURCE (INCL. PLATE)\n",
    "- RESOURCE SOURCE\n",
    "- CONVEYOR BELT\n",
    "- CHOPPING BOARD\n",
    "- FRYER"
   ]
  },
  {
   "cell_type": "code",
   "execution_count": 2,
   "metadata": {},
   "outputs": [],
   "source": [
    "FLOOR_GRAPHIC = pygame.image.load('floor.png')\n",
    "WALL_GRAPHIC = pygame.image.load('wall.png')\n",
    "PLAYER1_GRAPHIC = pygame.image.load('player1.png')\n",
    "PLAYER2_GRAPHIC = pygame.image.load('player2.png')\n",
    "\n",
    "PLAYER_SPEED = 2"
   ]
  },
  {
   "cell_type": "code",
   "execution_count": 3,
   "metadata": {},
   "outputs": [],
   "source": [
    "class Object(pygame.sprite.Sprite):\n",
    "    def __init__(self, position, graphic):\n",
    "        super().__init__()\n",
    "        self.image = graphic\n",
    "        self.rect = self.image.get_rect(center=position)\n",
    "        self.speed = PLAYER_SPEED\n",
    "        \n",
    "    \n",
    "    def draw(image_file):\n",
    "        image = pygame.image.load(image_file)\n",
    "\n",
    "Floors = pygame.sprite.Group()\n",
    "class Floor(Object):\n",
    "    def __init__(self, position):\n",
    "        super().__init__(position, FLOOR_GRAPHIC)\n",
    "\n",
    "Walls = pygame.sprite.Group()\n",
    "class Wall(Object):\n",
    "    def __init__(self, position):\n",
    "        super().__init__(position, WALL_GRAPHIC)"
   ]
  },
  {
   "cell_type": "code",
   "execution_count": 4,
   "metadata": {},
   "outputs": [],
   "source": [
    "Players = pygame.sprite.Group()\n",
    "class Player(Object):\n",
    "    def __init__(self, position, player_graphic, controls):\n",
    "        super().__init__(position, player_graphic)\n",
    "        self.controls = controls\n",
    "        \n",
    "    def update(self, keys):\n",
    "        self.moved = False\n",
    "        self.last_location = (self.rect.x, self.rect.y)\n",
    "        if keys[self.controls['UP']]:\n",
    "            self.rect.y -= self.speed\n",
    "            self.moved = True\n",
    "            \n",
    "        if keys[self.controls['DOWN']]:\n",
    "            self.rect.y += self.speed\n",
    "            self.moved = True\n",
    "            \n",
    "        if keys[self.controls['LEFT']]:\n",
    "            self.rect.x -= self.speed\n",
    "            self.moved = True\n",
    "            \n",
    "        if keys[self.controls['RIGHT']]:\n",
    "            self.rect.x += self.speed\n",
    "            self.moved = True\n",
    "            \n",
    "        # if(self.moved):\n",
    "        #     self.check_collision()\n",
    "            \n",
    "        \n",
    "    def check_collision(self):\n",
    "        for wall in Walls:\n",
    "            if(pygame.rect.collidirect(wall, self)):\n",
    "                self.rect.x, self.rect.y = self.last_location\n",
    "                break\n",
    "        \n",
    "        for player in Players:\n",
    "            players = 0\n",
    "            if(pygame.rect.collidirect(player, self)):\n",
    "                players += 1\n",
    "                \n",
    "            assert(players > 0)\n",
    "            if(players > 1):\n",
    "                self.rect.x, self.rect.y = self.last_location"
   ]
  },
  {
   "cell_type": "code",
   "execution_count": 5,
   "metadata": {},
   "outputs": [],
   "source": [
    "ROWS = 12\n",
    "COLS = 18\n",
    "SIZE = 32\n",
    "START_X, START_Y = (80, 60)\n",
    "floor_plan_matrix = [([0]*COLS) for i in range(ROWS)]\n",
    "for i in range (COLS):\n",
    "    floor_plan_matrix[0][i] = 1\n",
    "    floor_plan_matrix[ROWS-1][i] = 1\n",
    "\n",
    "for i in range (ROWS):\n",
    "    floor_plan_matrix[i][0] = 1\n",
    "    floor_plan_matrix[i][COLS-1] = 1\n",
    "\n",
    "obj_types = [[Wall, Walls], [Floor, Floors]]\n",
    "for i in range (ROWS):\n",
    "    for j in range (COLS):\n",
    "        obj_class, obj_sprite = obj_types[floor_plan_matrix[i][j]]\n",
    "        object = obj_class([START_X+SIZE/2 + j*SIZE, START_Y+SIZE/2 + i*SIZE])\n",
    "        obj_sprite.add(object)\n",
    "\n",
    "\n",
    "player1_controls = {\n",
    "    \"UP\": pygame.K_w,\n",
    "    \"DOWN\": pygame.K_s,\n",
    "    \"LEFT\": pygame.K_a,\n",
    "    \"RIGHT\": pygame.K_d\n",
    "}\n",
    "player2_controls = {\n",
    "    \"UP\": pygame.K_UP,\n",
    "    \"DOWN\": pygame.K_DOWN,\n",
    "    \"LEFT\": pygame.K_LEFT,\n",
    "    \"RIGHT\": pygame.K_RIGHT\n",
    "}\n",
    "Player1 = Player([200, 120], PLAYER1_GRAPHIC, player1_controls)\n",
    "Players.add(Player1)\n",
    "Player2 = Player([450, 120], PLAYER2_GRAPHIC, player2_controls)\n",
    "Players.add(Player2)"
   ]
  },
  {
   "cell_type": "code",
   "execution_count": 6,
   "metadata": {},
   "outputs": [],
   "source": [
    "running = True\n",
    "while running:\n",
    "    for event in pygame.event.get():\n",
    "        if event.type == pygame.QUIT:\n",
    "            running = False\n",
    "\n",
    "    screen.fill((255, 255, 255)) \n",
    "\n",
    "    Players.update(pygame.key.get_pressed())\n",
    "    Floors.draw(screen)\n",
    "    Walls.draw(screen)\n",
    "    Players.draw(screen)\n",
    "\n",
    "    pygame.display.flip()\n",
    "\n",
    "# Quit Pygame\n",
    "pygame.quit()\n"
   ]
  }
 ],
 "metadata": {
  "kernelspec": {
   "display_name": "Python 3",
   "language": "python",
   "name": "python3"
  },
  "language_info": {
   "codemirror_mode": {
    "name": "ipython",
    "version": 3
   },
   "file_extension": ".py",
   "mimetype": "text/x-python",
   "name": "python",
   "nbconvert_exporter": "python",
   "pygments_lexer": "ipython3",
   "version": "3.12.2"
  },
  "orig_nbformat": 4
 },
 "nbformat": 4,
 "nbformat_minor": 2
}
