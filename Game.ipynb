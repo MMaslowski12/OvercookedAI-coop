{
 "cells": [
  {
   "cell_type": "code",
   "execution_count": 2,
   "metadata": {},
   "outputs": [],
   "source": [
    "# !pip install pygame\n",
    "import pygame\n",
    "pygame.init()\n",
    "screen = pygame.display.set_mode((800, 600))"
   ]
  },
  {
   "cell_type": "code",
   "execution_count": null,
   "metadata": {},
   "outputs": [],
   "source": [
    "player1_controls = {\n",
    "    \"UP\": pygame.K_w,\n",
    "    \"DOWN\": pygame.K_s,\n",
    "    \"LEFT\": pygame.K_a,\n",
    "    \"RIGHT\": pygame.K_d,\n",
    "    \"ACTION\": pygame.K_e\n",
    "}\n",
    "\n",
    "player2_controls = {\n",
    "    \"UP\": pygame.K_UP,\n",
    "    \"DOWN\": pygame.K_DOWN,\n",
    "    \"LEFT\": pygame.K_LEFT,\n",
    "    \"RIGHT\": pygame.K_RIGHT,\n",
    "    \"ACTION\": pygame.K_SPACE\n",
    "}\n",
    "\n",
    "\n",
    "from Player import Player, Players\n",
    "from Board import player1_start, player2_start\n",
    "from constants import PLAYER1_GRAPHIC, PLAYER2_GRAPHIC\n",
    "import os\n",
    "os.chdir('..')\n",
    "\n",
    "Player1 = Player(player1_start, PLAYER1_GRAPHIC, player1_controls)\n",
    "Players.add(Player1)\n",
    "\n",
    "Player2 = Player(player2_start, PLAYER2_GRAPHIC, player2_controls)\n",
    "Players.add(Player2)"
   ]
  },
  {
   "cell_type": "code",
   "execution_count": null,
   "metadata": {},
   "outputs": [],
   "source": [
    "from Objects import Walls, Floors, CBoards, Fryers\n",
    "from Foods import Resources\n",
    "\n",
    "def draw():\n",
    "    screen.fill((255, 255, 255)) \n",
    "    Floors.draw(screen)\n",
    "    Walls.draw(screen)\n",
    "    Resources.draw(screen)\n",
    "    Players.draw(screen)"
   ]
  },
  {
   "cell_type": "code",
   "execution_count": null,
   "metadata": {},
   "outputs": [],
   "source": [
    "import numpy as np\n",
    "\n",
    "def get_state():\n",
    "    pixel_array = pygame.surfarray.array3d(screen)\n",
    "    # Transpose to (height, width, channels)\n",
    "    pixel_array = np.transpose(pixel_array, (1, 0, 2))\n",
    "    \n",
    "    #Normalize so that pixel values are from 0 to 1, not 0 to 255 as in RGB\n",
    "    pixel_array = pixel_array / 255.0\n",
    "    pixel_array = np.expand_dims(pixel_array, axis=0)"
   ]
  },
  {
   "cell_type": "code",
   "execution_count": null,
   "metadata": {},
   "outputs": [],
   "source": [
    "time_per_game = int(input(\"Please enter the length of the game, in seconds (default: 180)\"))\n",
    "start_time = pygame.time.get_ticks()\n",
    "from constants import START_X, END_X, START_Y, END_Y\n",
    "\n",
    "def update():\n",
    "    elapsed_time = (pygame.time.get_ticks() - start_time) / 1000\n",
    "    if(elapsed_time < time_per_game):\n",
    "        Players.update(pygame.key.get_pressed())\n",
    "        CBoards.update()\n",
    "        Fryers.update()\n",
    "\n",
    "\n",
    "    else:\n",
    "        #Game finished; display a large \"GAME OVER\" sign over a frozen frame\n",
    "        font = pygame.font.SysFont(\"comicsansms\", 100)\n",
    "        game_over_surface = font.render(\"GAME OVER\", True, (255, 0, 0))\n",
    "        game_over_rect = game_over_surface.get_rect(center=((START_X+END_X)//2, (START_Y + END_Y)//2))\n",
    "        screen.blit(game_over_surface, game_over_rect)"
   ]
  },
  {
   "cell_type": "code",
   "execution_count": null,
   "metadata": {},
   "outputs": [],
   "source": [
    "from tensorflow.keras.models import load_model\n",
    "import os\n",
    "os.chdir('/Users/michal.maslowski/Documents/GitHub/OvercookedAI-coop')\n",
    "\n",
    "Misha = load_model('Misha.h5') #Load the weights of the model"
   ]
  },
  {
   "cell_type": "code",
   "execution_count": null,
   "metadata": {},
   "outputs": [
    {
     "name": "stdout",
     "output_type": "stream",
     "text": [
      "pygame 2.6.0 (SDL 2.28.4, Python 3.9.6)\n",
      "Hello from the pygame community. https://www.pygame.org/contribute.html\n"
     ]
    },
    {
     "ename": "",
     "evalue": "",
     "output_type": "error",
     "traceback": [
      "\u001b[1;31mThe Kernel crashed while executing code in the the current cell or a previous cell. Please review the code in the cell(s) to identify a possible cause of the failure. Click <a href='https://aka.ms/vscodeJupyterKernelCrash'>here</a> for more info. View Jupyter <a href='command:jupyter.viewOutput'>log</a> for further details."
     ]
    }
   ],
   "source": [
    "from Foods import Menu\n",
    "Menu = Menu()"
   ]
  },
  {
   "cell_type": "code",
   "execution_count": null,
   "metadata": {},
   "outputs": [],
   "source": [
    "def get_statexdd():\n",
    "    '''\n",
    "    Returns the list of:\n",
    "    - visual_data - normalized pixel values of the screen\n",
    "    - numerical_data, containing in respective order:\n",
    "        - the state of the Menu (see: Menu.get_state())\n",
    "        - the state of Player 1's and Player 2's hands (see: Player.get_state())\n",
    "    \n",
    "    '''\n",
    "    \n",
    "    visual_data = pygame.surfarray.array3d(screen)\n",
    "    visual_data = np.transpose(visual_data, (1, 0, 2)) #Change from width, height, color channel to height, width, color channel\n",
    "    visual_data = visual_data / 255. #Normalize pixels from 0 to 1 for easier training\n",
    "\n",
    "    numerical_data = np.concatenate((Menu.get_statecipa(), Player1.get_statexd(), Player2.get_statexd()))\n",
    "    print(\"SHAPES: \", visual_data.shape, numerical_data.shape)    \n",
    "    return [visual_data, numerical_data]"
   ]
  },
  {
   "cell_type": "code",
   "execution_count": null,
   "metadata": {},
   "outputs": [
    {
     "name": "stdout",
     "output_type": "stream",
     "text": [
      "None\n",
      "None\n",
      "None\n",
      "None\n"
     ]
    },
    {
     "ename": "KeyboardInterrupt",
     "evalue": "",
     "output_type": "error",
     "traceback": [
      "\u001b[0;31m---------------------------------------------------------------------------\u001b[0m",
      "\u001b[0;31mKeyboardInterrupt\u001b[0m                         Traceback (most recent call last)",
      "Cell \u001b[0;32mIn[74], line 21\u001b[0m\n\u001b[1;32m     19\u001b[0m pygame\u001b[39m.\u001b[39mdisplay\u001b[39m.\u001b[39mflip()\n\u001b[1;32m     20\u001b[0m tick \u001b[39m+\u001b[39m\u001b[39m=\u001b[39m \u001b[39m1\u001b[39m\n\u001b[0;32m---> 21\u001b[0m clock\u001b[39m.\u001b[39;49mtick(\u001b[39m60\u001b[39;49m)\n\u001b[1;32m     23\u001b[0m \u001b[39mif\u001b[39;00m (tick \u001b[39m%\u001b[39m \u001b[39m100\u001b[39m \u001b[39m==\u001b[39m \u001b[39m0\u001b[39m):\n\u001b[1;32m     24\u001b[0m     xd \u001b[39m=\u001b[39m get_state()\n",
      "\u001b[0;31mKeyboardInterrupt\u001b[0m: "
     ]
    },
    {
     "ename": "",
     "evalue": "",
     "output_type": "error",
     "traceback": [
      "\u001b[1;31mThe Kernel crashed while executing code in the the current cell or a previous cell. Please review the code in the cell(s) to identify a possible cause of the failure. Click <a href='https://aka.ms/vscodeJupyterKernelCrash'>here</a> for more info. View Jupyter <a href='command:jupyter.viewOutput'>log</a> for further details."
     ]
    }
   ],
   "source": [
    "running = True\n",
    "clock = pygame.time.Clock()\n",
    "tick = 0\n",
    "game_score = 0\n",
    "\n",
    "\n",
    "while running:\n",
    "    for event in pygame.event.get():\n",
    "        if event.type == pygame.QUIT:\n",
    "            running = False\n",
    "            break\n",
    "\n",
    "    if(not running):\n",
    "        break\n",
    "    \n",
    "    draw()\n",
    "    update()\n",
    "    \n",
    "    pygame.display.flip()\n",
    "    tick += 1\n",
    "    clock.tick(60)\n",
    "    \n",
    "    if (tick % 100 == 0):\n",
    "        xd = get_statexdd()\n",
    "        print(xd)\n",
    "    \n",
    "        \n",
    "pygame.display.quit()\n",
    "pygame.quit()\n",
    "exit()"
   ]
  }
 ],
 "metadata": {
  "kernelspec": {
   "display_name": "Python 3",
   "language": "python",
   "name": "python3"
  },
  "language_info": {
   "codemirror_mode": {
    "name": "ipython",
    "version": 3
   },
   "file_extension": ".py",
   "mimetype": "text/x-python",
   "name": "python",
   "nbconvert_exporter": "python",
   "pygments_lexer": "ipython3",
   "version": "3.9.6"
  },
  "orig_nbformat": 4
 },
 "nbformat": 4,
 "nbformat_minor": 2
}
