{
 "cells": [
  {
   "cell_type": "code",
   "execution_count": 124,
   "metadata": {},
   "outputs": [],
   "source": [
    "# !pip install pygame\n",
    "import pygame\n",
    "pygame.init()\n",
    "screen = pygame.display.set_mode((800, 600))"
   ]
  },
  {
   "cell_type": "code",
   "execution_count": 134,
   "metadata": {},
   "outputs": [],
   "source": [
    "player1_controls = {\n",
    "    \"UP\": pygame.K_w,\n",
    "    \"DOWN\": pygame.K_s,\n",
    "    \"LEFT\": pygame.K_a,\n",
    "    \"RIGHT\": pygame.K_d,\n",
    "    \"ACTION\": pygame.K_e\n",
    "}\n",
    "\n",
    "player2_controls = {\n",
    "    \"UP\": pygame.K_UP,\n",
    "    \"DOWN\": pygame.K_DOWN,\n",
    "    \"LEFT\": pygame.K_LEFT,\n",
    "    \"RIGHT\": pygame.K_RIGHT,\n",
    "    \"ACTION\": pygame.K_SPACE\n",
    "}\n",
    "\n",
    "\n",
    "from Player import Player, Players\n",
    "from Board import player1_start, player2_start\n",
    "from constants import PLAYER1_GRAPHIC, PLAYER2_GRAPHIC\n",
    "import os\n",
    "os.chdir('..')\n",
    "\n",
    "Player1 = Player(player1_start, PLAYER1_GRAPHIC, player1_controls)\n",
    "Players.add(Player1)\n",
    "\n",
    "Player2 = Player(player2_start, PLAYER2_GRAPHIC, player2_controls)\n",
    "Players.add(Player2)"
   ]
  },
  {
   "cell_type": "code",
   "execution_count": 135,
   "metadata": {},
   "outputs": [],
   "source": [
    "from Objects import Walls, Floors, CBoards, Fryers\n",
    "from Foods import Resources\n",
    "\n",
    "def draw():\n",
    "    screen.fill((255, 255, 255)) \n",
    "    Floors.draw(screen)\n",
    "    Walls.draw(screen)\n",
    "    Resources.draw(screen)\n",
    "    Players.draw(screen)"
   ]
  },
  {
   "cell_type": "code",
   "execution_count": 136,
   "metadata": {},
   "outputs": [],
   "source": [
    "import numpy as np\n",
    "\n",
    "def get_state():\n",
    "    pixel_array = pygame.surfarray.array3d(screen)\n",
    "    # Transpose to (height, width, channels)\n",
    "    pixel_array = np.transpose(pixel_array, (1, 0, 2))\n",
    "    \n",
    "    #Normalize so that pixel values are from 0 to 1, not 0 to 255 as in RGB\n",
    "    pixel_array = pixel_array / 255.0\n",
    "    pixel_array = np.expand_dims(pixel_array, axis=0)"
   ]
  },
  {
   "cell_type": "code",
   "execution_count": 137,
   "metadata": {},
   "outputs": [],
   "source": [
    "from tensorflow.keras.models import load_model\n",
    "import os\n",
    "os.chdir('/Users/michal.maslowski/Documents/GitHub/OvercookedAI-coop')\n",
    "\n",
    "Misha = load_model('Misha.h5') #Load the weights of the model"
   ]
  },
  {
   "cell_type": "code",
   "execution_count": 138,
   "metadata": {},
   "outputs": [],
   "source": [
    "from Foods import Menu"
   ]
  },
  {
   "cell_type": "code",
   "execution_count": 139,
   "metadata": {},
   "outputs": [],
   "source": [
    "def get_state():\n",
    "    '''\n",
    "    Returns the list of:\n",
    "    - visual_data - normalized pixel values of the screen\n",
    "    - numerical_data, containing in respective order:\n",
    "        - the state of the Menu (see: Menu.get_state())\n",
    "        - the state of Player 1's and Player 2's hands (see: Player.get_state())\n",
    "    \n",
    "    '''\n",
    "    \n",
    "    visual_data = pygame.surfarray.array3d(screen)\n",
    "    visual_data = np.transpose(visual_data, (1, 0, 2)) #Change from width, height, color channel to height, width, color channel\n",
    "    visual_data = visual_data / 255. #Normalize pixels from 0 to 1 for easier training\n",
    "    visual_data = np.expand_dims(visual_data, 0) #Add the batch_size dimension\n",
    "\n",
    "    numerical_data = np.concatenate((Menu.get_state(), Player1.get_state(), Player2.get_state()))\n",
    "    numerical_data = np.expand_dims(numerical_data, 0)\n",
    "    \n",
    "    return [visual_data, numerical_data]\n",
    "\n",
    "\n"
   ]
  },
  {
   "cell_type": "code",
   "execution_count": 140,
   "metadata": {},
   "outputs": [],
   "source": [
    "time_per_game = int(input(\"Please enter the length of the game, in seconds (default: 180)\"))\n",
    "start_time = pygame.time.get_ticks()\n",
    "from constants import START_X, END_X, START_Y, END_Y\n",
    "\n",
    "    \n",
    "def update(actions):\n",
    "    elapsed_time = (pygame.time.get_ticks() - start_time) / 1000\n",
    "    if(elapsed_time < time_per_game):\n",
    "        Players.update(actions) \n",
    "        CBoards.update()\n",
    "        Fryers.update()\n",
    "\n",
    "\n",
    "    else:\n",
    "        #Game finished; display a large \"GAME OVER\" sign over a frozen frame\n",
    "        font = pygame.font.SysFont(\"comicsansms\", 100)\n",
    "        game_over_surface = font.render(\"GAME OVER\", True, (255, 0, 0))\n",
    "        game_over_rect = game_over_surface.get_rect(center=((START_X+END_X)//2, (START_Y + END_Y)//2))\n",
    "        screen.blit(game_over_surface, game_over_rect)"
   ]
  },
  {
   "cell_type": "code",
   "execution_count": 141,
   "metadata": {},
   "outputs": [],
   "source": [
    "def get_actions(misha_playing):\n",
    "    if not misha_playing:\n",
    "        return pygame.key.get_pressed()\n",
    "    \n",
    "    else:\n",
    "        #Create a blank slate dictionary (as if all the keys were unpressed)\n",
    "        keys = [key for key in dir(pygame) if key.startswith('K_')]\n",
    "        keys_dict = {getattr(pygame, key): False for key in keys}\n",
    "        #Now, set all relevant keys as pressed\n",
    "        \n",
    "        actions = []\n",
    "        q_values = Misha.predict(get_state())\n",
    "        q_values = q_values[0] #Get rid of the batch_size dimension: goes from (1, 10) to (10,)\n",
    "        p1_values = q_values[0:5]\n",
    "        p1_action = list(player1_controls)[p1_values.argmax()] #Get the action from player 1 that maximizes the q value\n",
    "        keys_dict[p1_action] = True\n",
    "        \n",
    "        if (p1_action == player1_controls[\"ACTION\"]): #If the best value for player 1 involves using an object:\n",
    "            p1_action_no2 = list(player1_controls)[p1_values[:4].argmax()] #Get the 2nd best action\n",
    "            keys_dict[p1_action_no2] = True\n",
    "            \n",
    "        #ditto as above for player 2\n",
    "        p2_values = q_values[5:10]\n",
    "        p2_action = list(player2_controls)[p2_values.argmax()] #Get the action from player 1 that maximizes the q value\n",
    "        keys_dict[p2_action] = True\n",
    "        if (p2_action == player2_controls[\"ACTION\"]): #If the best value for player 1 involves using an object:\n",
    "            p2_action_no2 = list(player2_controls)[p1_values[:4].argmax()] #Get the 2nd best action\n",
    "            keys_dict[p2_action_no2] = True\n",
    "        \n",
    "        return keys_dict"
   ]
  },
  {
   "cell_type": "code",
   "execution_count": 143,
   "metadata": {},
   "outputs": [
    {
     "name": "stdout",
     "output_type": "stream",
     "text": [
      "1/1 [==============================] - 0s 20ms/step\n"
     ]
    },
    {
     "ename": "UnboundLocalError",
     "evalue": "local variable 'action_made' referenced before assignment",
     "output_type": "error",
     "traceback": [
      "\u001b[0;31m---------------------------------------------------------------------------\u001b[0m",
      "\u001b[0;31mUnboundLocalError\u001b[0m                         Traceback (most recent call last)",
      "Cell \u001b[0;32mIn[143], line 20\u001b[0m\n\u001b[1;32m     17\u001b[0m draw()\n\u001b[1;32m     19\u001b[0m actions \u001b[39m=\u001b[39m get_actions(misha_playing)\n\u001b[0;32m---> 20\u001b[0m update(actions)\n\u001b[1;32m     21\u001b[0m pygame\u001b[39m.\u001b[39mdisplay\u001b[39m.\u001b[39mflip()\n\u001b[1;32m     22\u001b[0m tick \u001b[39m+\u001b[39m\u001b[39m=\u001b[39m \u001b[39m1\u001b[39m\n",
      "Cell \u001b[0;32mIn[140], line 9\u001b[0m, in \u001b[0;36mupdate\u001b[0;34m(actions)\u001b[0m\n\u001b[1;32m      7\u001b[0m elapsed_time \u001b[39m=\u001b[39m (pygame\u001b[39m.\u001b[39mtime\u001b[39m.\u001b[39mget_ticks() \u001b[39m-\u001b[39m start_time) \u001b[39m/\u001b[39m \u001b[39m1000\u001b[39m\n\u001b[1;32m      8\u001b[0m \u001b[39mif\u001b[39;00m(elapsed_time \u001b[39m<\u001b[39m time_per_game):\n\u001b[0;32m----> 9\u001b[0m     Players\u001b[39m.\u001b[39;49mupdate(actions) \n\u001b[1;32m     10\u001b[0m     CBoards\u001b[39m.\u001b[39mupdate()\n\u001b[1;32m     11\u001b[0m     Fryers\u001b[39m.\u001b[39mupdate()\n",
      "File \u001b[0;32m~/Library/Python/3.9/lib/python/site-packages/pygame/sprite.py:556\u001b[0m, in \u001b[0;36mAbstractGroup.update\u001b[0;34m(self, *args, **kwargs)\u001b[0m\n\u001b[1;32m    547\u001b[0m \u001b[39m\u001b[39m\u001b[39m\"\"\"call the update method of every member sprite\u001b[39;00m\n\u001b[1;32m    548\u001b[0m \n\u001b[1;32m    549\u001b[0m \u001b[39mGroup.update(*args, **kwargs): return None\u001b[39;00m\n\u001b[0;32m   (...)\u001b[0m\n\u001b[1;32m    553\u001b[0m \n\u001b[1;32m    554\u001b[0m \u001b[39m\"\"\"\u001b[39;00m\n\u001b[1;32m    555\u001b[0m \u001b[39mfor\u001b[39;00m sprite \u001b[39min\u001b[39;00m \u001b[39mself\u001b[39m\u001b[39m.\u001b[39msprites():\n\u001b[0;32m--> 556\u001b[0m     sprite\u001b[39m.\u001b[39;49mupdate(\u001b[39m*\u001b[39;49margs, \u001b[39m*\u001b[39;49m\u001b[39m*\u001b[39;49mkwargs)\n",
      "File \u001b[0;32m~/Documents/GitHub/OvercookedAI-coop/Player.py:62\u001b[0m, in \u001b[0;36mPlayer.update\u001b[0;34m(self, keys)\u001b[0m\n\u001b[1;32m     58\u001b[0m     \u001b[39mif\u001b[39;00m(action_made):\n\u001b[1;32m     59\u001b[0m         \u001b[39mself\u001b[39m\u001b[39m.\u001b[39maction_cooldown \u001b[39m=\u001b[39m \u001b[39m20\u001b[39m\n\u001b[0;32m---> 62\u001b[0m \u001b[39mif\u001b[39;00m (action_made):\n\u001b[1;32m     63\u001b[0m    \u001b[39mreturn\u001b[39;00m \u001b[39m0\u001b[39m \n\u001b[1;32m     65\u001b[0m \u001b[39m#Move up down, left, or right\u001b[39;00m\n",
      "\u001b[0;31mUnboundLocalError\u001b[0m: local variable 'action_made' referenced before assignment"
     ]
    }
   ],
   "source": [
    "misha_playing = True #Bot vs human play\n",
    "running = True\n",
    "clock = pygame.time.Clock()\n",
    "tick = 0\n",
    "game_score = 0\n",
    "\n",
    "\n",
    "while running:\n",
    "    for event in pygame.event.get():\n",
    "        if event.type == pygame.QUIT:\n",
    "            running = False\n",
    "            break\n",
    "\n",
    "    if(not running):\n",
    "        break\n",
    "    \n",
    "    draw()\n",
    "    \n",
    "    actions = get_actions(misha_playing)\n",
    "    update(actions)\n",
    "    pygame.display.flip()\n",
    "    tick += 1\n",
    "    clock.tick(60)\n",
    "    if(tick % 60 == 0):\n",
    "        pass\n",
    "        \n",
    "    \n",
    "        \n",
    "pygame.display.quit()\n",
    "pygame.quit()\n",
    "exit()"
   ]
  }
 ],
 "metadata": {
  "kernelspec": {
   "display_name": "Python 3",
   "language": "python",
   "name": "python3"
  },
  "language_info": {
   "codemirror_mode": {
    "name": "ipython",
    "version": 3
   },
   "file_extension": ".py",
   "mimetype": "text/x-python",
   "name": "python",
   "nbconvert_exporter": "python",
   "pygments_lexer": "ipython3",
   "version": "3.9.6"
  },
  "orig_nbformat": 4
 },
 "nbformat": 4,
 "nbformat_minor": 2
}
