{
 "cells": [
  {
   "cell_type": "code",
   "execution_count": 10,
   "metadata": {},
   "outputs": [],
   "source": [
    "# !pip install pygame\n",
    "import pygame\n",
    "pygame.init()\n",
    "screen = pygame.display.set_mode((800, 600))"
   ]
  },
  {
   "cell_type": "code",
   "execution_count": 11,
   "metadata": {},
   "outputs": [],
   "source": [
    "player1_controls = {\n",
    "    \"UP\": pygame.K_w,\n",
    "    \"DOWN\": pygame.K_s,\n",
    "    \"LEFT\": pygame.K_a,\n",
    "    \"RIGHT\": pygame.K_d,\n",
    "    \"ACTION\": pygame.K_e\n",
    "}\n",
    "\n",
    "player2_controls = {\n",
    "    \"UP\": pygame.K_UP,\n",
    "    \"DOWN\": pygame.K_DOWN,\n",
    "    \"LEFT\": pygame.K_LEFT,\n",
    "    \"RIGHT\": pygame.K_RIGHT,\n",
    "    \"ACTION\": pygame.K_SPACE\n",
    "}\n",
    "\n",
    "\n",
    "from Player import Player, Players\n",
    "from Board import player1_start, player2_start\n",
    "from constants import PLAYER1_GRAPHIC, PLAYER2_GRAPHIC\n",
    "import os\n",
    "os.chdir('..')\n",
    "\n",
    "Player1 = Player(player1_start, PLAYER1_GRAPHIC, player1_controls)\n",
    "Players.add(Player1)\n",
    "\n",
    "Player2 = Player(player2_start, PLAYER2_GRAPHIC, player2_controls)\n",
    "Players.add(Player2)"
   ]
  },
  {
   "cell_type": "code",
   "execution_count": 12,
   "metadata": {},
   "outputs": [],
   "source": [
    "from Objects import Walls, Floors, CBoards, Fryers\n",
    "from Foods import Resources\n",
    "\n",
    "def draw():\n",
    "    screen.fill((255, 255, 255)) \n",
    "    Floors.draw(screen)\n",
    "    Walls.draw(screen)\n",
    "    Resources.draw(screen)\n",
    "    Players.draw(screen)"
   ]
  },
  {
   "cell_type": "code",
   "execution_count": 13,
   "metadata": {},
   "outputs": [],
   "source": [
    "import numpy as np\n",
    "\n",
    "def get_state():\n",
    "    pixel_array = pygame.surfarray.array3d(screen)\n",
    "    # Transpose to (height, width, channels)\n",
    "    pixel_array = np.transpose(pixel_array, (1, 0, 2))\n",
    "    \n",
    "    #Normalize so that pixel values are from 0 to 1, not 0 to 255 as in RGB\n",
    "    pixel_array = pixel_array / 255.0\n",
    "    pixel_array = np.expand_dims(pixel_array, axis=0)"
   ]
  },
  {
   "cell_type": "code",
   "execution_count": 14,
   "metadata": {},
   "outputs": [
    {
     "ename": "ValueError",
     "evalue": "invalid literal for int() with base 10: ''",
     "output_type": "error",
     "traceback": [
      "\u001b[0;31m---------------------------------------------------------------------------\u001b[0m",
      "\u001b[0;31mValueError\u001b[0m                                Traceback (most recent call last)",
      "Cell \u001b[0;32mIn[14], line 1\u001b[0m\n\u001b[0;32m----> 1\u001b[0m time_per_game \u001b[39m=\u001b[39m \u001b[39mint\u001b[39;49m(\u001b[39minput\u001b[39;49m(\u001b[39m\"\u001b[39;49m\u001b[39mPlease enter the length of the game, in seconds (default: 180)\u001b[39;49m\u001b[39m\"\u001b[39;49m))\n\u001b[1;32m      2\u001b[0m start_time \u001b[39m=\u001b[39m pygame\u001b[39m.\u001b[39mtime\u001b[39m.\u001b[39mget_ticks()\n\u001b[1;32m      3\u001b[0m \u001b[39mfrom\u001b[39;00m \u001b[39mconstants\u001b[39;00m \u001b[39mimport\u001b[39;00m START_X, END_X, START_Y, END_Y\n",
      "\u001b[0;31mValueError\u001b[0m: invalid literal for int() with base 10: ''"
     ]
    }
   ],
   "source": [
    "time_per_game = int(input(\"Please enter the length of the game, in seconds (default: 180)\"))\n",
    "start_time = pygame.time.get_ticks()\n",
    "from constants import START_X, END_X, START_Y, END_Y\n",
    "\n",
    "def update():\n",
    "    elapsed_time = (pygame.time.get_ticks() - start_time) / 1000\n",
    "    if(elapsed_time < time_per_game):\n",
    "        Players.update(pygame.key.get_pressed())\n",
    "        CBoards.update()\n",
    "        Fryers.update()\n",
    "\n",
    "\n",
    "    else:\n",
    "        #Game finished; display a large \"GAME OVER\" sign over a frozen frame\n",
    "        font = pygame.font.SysFont(\"comicsansms\", 100)\n",
    "        game_over_surface = font.render(\"GAME OVER\", True, (255, 0, 0))\n",
    "        game_over_rect = game_over_surface.get_rect(center=((START_X+END_X)//2, (START_Y + END_Y)//2))\n",
    "        screen.blit(game_over_surface, game_over_rect)"
   ]
  },
  {
   "cell_type": "code",
   "execution_count": null,
   "metadata": {},
   "outputs": [
    {
     "name": "stderr",
     "output_type": "stream",
     "text": [
      "/Users/michal.maslowski/Library/Python/3.9/lib/python/site-packages/urllib3/__init__.py:35: NotOpenSSLWarning: urllib3 v2 only supports OpenSSL 1.1.1+, currently the 'ssl' module is compiled with 'LibreSSL 2.8.3'. See: https://github.com/urllib3/urllib3/issues/3020\n",
      "  warnings.warn(\n"
     ]
    }
   ],
   "source": [
    "from tensorflow.keras.models import load_model\n",
    "import os\n",
    "os.chdir('/Users/michal.maslowski/Documents/GitHub/OvercookedAI-coop')\n",
    "\n",
    "Misha = load_model('Misha.h5') #Load the weights of the model"
   ]
  },
  {
   "cell_type": "code",
   "execution_count": 17,
   "metadata": {},
   "outputs": [
    {
     "ename": "ImportError",
     "evalue": "cannot import name 'MenuClass' from 'Foods' (/Users/michal.maslowski/Documents/GitHub/OvercookedAI-coop/Foods.py)",
     "output_type": "error",
     "traceback": [
      "\u001b[0;31m---------------------------------------------------------------------------\u001b[0m",
      "\u001b[0;31mImportError\u001b[0m                               Traceback (most recent call last)",
      "Cell \u001b[0;32mIn[17], line 1\u001b[0m\n\u001b[0;32m----> 1\u001b[0m \u001b[39mfrom\u001b[39;00m \u001b[39mFoods\u001b[39;00m \u001b[39mimport\u001b[39;00m MenuClass\n\u001b[1;32m      2\u001b[0m Menu \u001b[39m=\u001b[39m MenuClass()\n",
      "\u001b[0;31mImportError\u001b[0m: cannot import name 'MenuClass' from 'Foods' (/Users/michal.maslowski/Documents/GitHub/OvercookedAI-coop/Foods.py)"
     ]
    }
   ],
   "source": [
    "from Foods import MenuClass\n",
    "Menu = MenuClass()"
   ]
  },
  {
   "cell_type": "code",
   "execution_count": null,
   "metadata": {},
   "outputs": [],
   "source": [
    "def get_statexdd():\n",
    "    '''\n",
    "    Returns the list of:\n",
    "    - visual_data - normalized pixel values of the screen\n",
    "    - numerical_data, containing in respective order:\n",
    "        - the state of the Menu (see: Menu.get_state())\n",
    "        - the state of Player 1's and Player 2's hands (see: Player.get_state())\n",
    "    \n",
    "    '''\n",
    "    \n",
    "    visual_data = pygame.surfarray.array3d(screen)\n",
    "    visual_data = np.transpose(visual_data, (1, 0, 2)) #Change from width, height, color channel to height, width, color channel\n",
    "    visual_data = visual_data / 255. #Normalize pixels from 0 to 1 for easier training\n",
    "\n",
    "    numerical_data = np.concatenate((Menu.get_statecipa(), Player1.get_statexd(), Player2.get_statexd()))\n",
    "    print(\"SHAPES: \", visual_data.shape, numerical_data.shape)    \n",
    "    return [visual_data, numerical_data]"
   ]
  },
  {
   "cell_type": "code",
   "execution_count": null,
   "metadata": {},
   "outputs": [
    {
     "ename": "AttributeError",
     "evalue": "type object 'Menu' has no attribute 'queue'",
     "output_type": "error",
     "traceback": [
      "\u001b[0;31m---------------------------------------------------------------------------\u001b[0m",
      "\u001b[0;31mAttributeError\u001b[0m                            Traceback (most recent call last)",
      "Cell \u001b[0;32mIn[9], line 24\u001b[0m\n\u001b[1;32m     21\u001b[0m     clock\u001b[39m.\u001b[39mtick(\u001b[39m60\u001b[39m)\n\u001b[1;32m     23\u001b[0m     \u001b[39mif\u001b[39;00m (tick \u001b[39m%\u001b[39m \u001b[39m100\u001b[39m \u001b[39m==\u001b[39m \u001b[39m0\u001b[39m):\n\u001b[0;32m---> 24\u001b[0m         xd \u001b[39m=\u001b[39m get_statexdd()\n\u001b[1;32m     25\u001b[0m         \u001b[39mprint\u001b[39m(xd)\n\u001b[1;32m     28\u001b[0m pygame\u001b[39m.\u001b[39mdisplay\u001b[39m.\u001b[39mquit()\n",
      "Cell \u001b[0;32mIn[8], line 15\u001b[0m, in \u001b[0;36mget_statexdd\u001b[0;34m()\u001b[0m\n\u001b[1;32m     12\u001b[0m visual_data \u001b[39m=\u001b[39m np\u001b[39m.\u001b[39mtranspose(visual_data, (\u001b[39m1\u001b[39m, \u001b[39m0\u001b[39m, \u001b[39m2\u001b[39m)) \u001b[39m#Change from width, height, color channel to height, width, color channel\u001b[39;00m\n\u001b[1;32m     13\u001b[0m visual_data \u001b[39m=\u001b[39m visual_data \u001b[39m/\u001b[39m \u001b[39m255.\u001b[39m \u001b[39m#Normalize pixels from 0 to 1 for easier training\u001b[39;00m\n\u001b[0;32m---> 15\u001b[0m numerical_data \u001b[39m=\u001b[39m np\u001b[39m.\u001b[39mconcatenate((Menu\u001b[39m.\u001b[39;49mget_statecipa(), Player1\u001b[39m.\u001b[39mget_statexd(), Player2\u001b[39m.\u001b[39mget_statexd()))\n\u001b[1;32m     16\u001b[0m \u001b[39mprint\u001b[39m(\u001b[39m\"\u001b[39m\u001b[39mSHAPES: \u001b[39m\u001b[39m\"\u001b[39m, visual_data\u001b[39m.\u001b[39mshape, numerical_data\u001b[39m.\u001b[39mshape)    \n\u001b[1;32m     17\u001b[0m \u001b[39mreturn\u001b[39;00m [visual_data, numerical_data]\n",
      "File \u001b[0;32m~/Documents/GitHub/OvercookedAI-coop/Foods.py:167\u001b[0m, in \u001b[0;36mMenu.get_statecipa\u001b[0;34m(self)\u001b[0m\n\u001b[1;32m    161\u001b[0m \u001b[39m\u001b[39m\u001b[39m'''\u001b[39;00m\n\u001b[1;32m    162\u001b[0m \u001b[39mReturns the state of the menu. 10 binary values. 2*ith value corresponds to whether the ith dish contains fish, and the 2*i + 1th value corresponds to whether the ith dish contains potatoes \u001b[39;00m\n\u001b[1;32m    163\u001b[0m \u001b[39m'''\u001b[39;00m\n\u001b[1;32m    165\u001b[0m state \u001b[39m=\u001b[39m np\u001b[39m.\u001b[39mzeros((\u001b[39m5\u001b[39m, \u001b[39m2\u001b[39m)) \n\u001b[0;32m--> 167\u001b[0m \u001b[39mfor\u001b[39;00m i \u001b[39min\u001b[39;00m \u001b[39mrange\u001b[39m(\u001b[39mlen\u001b[39m(Menu\u001b[39m.\u001b[39;49mqueue)):  \n\u001b[1;32m    168\u001b[0m     dish \u001b[39m=\u001b[39m Menu\u001b[39m.\u001b[39mqueue[i]\n\u001b[1;32m    170\u001b[0m     \u001b[39mif\u001b[39;00m dish\u001b[39m.\u001b[39mname \u001b[39m==\u001b[39m \u001b[39m\"\u001b[39m\u001b[39mFish and Chips\u001b[39m\u001b[39m\"\u001b[39m:\n",
      "\u001b[0;31mAttributeError\u001b[0m: type object 'Menu' has no attribute 'queue'"
     ]
    }
   ],
   "source": [
    "running = True\n",
    "clock = pygame.time.Clock()\n",
    "tick = 0\n",
    "game_score = 0\n",
    "\n",
    "\n",
    "while running:\n",
    "    for event in pygame.event.get():\n",
    "        if event.type == pygame.QUIT:\n",
    "            running = False\n",
    "            break\n",
    "\n",
    "    if(not running):\n",
    "        break\n",
    "    \n",
    "    draw()\n",
    "    update()\n",
    "    \n",
    "    pygame.display.flip()\n",
    "    tick += 1\n",
    "    clock.tick(60)\n",
    "    \n",
    "    if (tick % 100 == 0):\n",
    "        xd = get_statexdd()\n",
    "        print(xd)\n",
    "    \n",
    "        \n",
    "pygame.display.quit()\n",
    "pygame.quit()\n",
    "exit()"
   ]
  }
 ],
 "metadata": {
  "kernelspec": {
   "display_name": "Python 3",
   "language": "python",
   "name": "python3"
  },
  "language_info": {
   "codemirror_mode": {
    "name": "ipython",
    "version": 3
   },
   "file_extension": ".py",
   "mimetype": "text/x-python",
   "name": "python",
   "nbconvert_exporter": "python",
   "pygments_lexer": "ipython3",
   "version": "3.9.6"
  },
  "orig_nbformat": 4
 },
 "nbformat": 4,
 "nbformat_minor": 2
}
