{
 "cells": [
  {
   "cell_type": "code",
   "execution_count": 27,
   "metadata": {},
   "outputs": [],
   "source": [
    "import pygame\n",
    "pygame.init()\n",
    "\n",
    "screen_width = 800\n",
    "screen_height = 600\n",
    "screen = pygame.display.set_mode((screen_width, screen_height))"
   ]
  },
  {
   "cell_type": "markdown",
   "metadata": {},
   "source": [
    "MVP\n",
    "- FLOOR\n",
    "- WALLS\n",
    "- PLAYERS\n",
    "- Collision mechanics\n",
    "- RESOURCE (INCL. PLATE)\n",
    "- RESOURCE SOURCE\n",
    "- CONVEYOR BELT\n",
    "- CHOPPING BOARD\n",
    "- FRYER"
   ]
  },
  {
   "cell_type": "code",
   "execution_count": 28,
   "metadata": {},
   "outputs": [],
   "source": [
    "FLOOR_GRAPHIC = pygame.image.load('floor.png')\n",
    "WALL_GRAPHIC = pygame.image.load('wall.png')"
   ]
  },
  {
   "cell_type": "code",
   "execution_count": 35,
   "metadata": {},
   "outputs": [],
   "source": [
    "class Object(pygame.sprite.Sprite):\n",
    "    def __init__(self, position, graphic):\n",
    "        super().__init__()\n",
    "        self.image = graphic\n",
    "        self.rect = self.image.get_rect(center=position)\n",
    "        \n",
    "    \n",
    "    def draw(image_file):\n",
    "        image = pygame.image.load(image_file)\n",
    "\n",
    "\n",
    "class Floor(Object):\n",
    "    def __init__(self, position):\n",
    "        super().__init__(position, FLOOR_GRAPHIC)\n",
    "    \n",
    "class Wall(Object):\n",
    "    def __init__(self, position):\n",
    "        super().__init__(position, WALL_GRAPHIC)\n",
    "\n",
    "        \n",
    "        \n",
    "Floors = pygame.sprite.Group()\n",
    "Walls = pygame.sprite.Group()\n",
    "\n",
    "ROWS = 12\n",
    "COLS = 18\n",
    "SIZE = 32\n",
    "START_X, START_Y = (80, 60)\n",
    "floor_plan_matrix = [([0]*COLS) for i in range(ROWS)]\n",
    "for i in range (COLS):\n",
    "    floor_plan_matrix[0][i] = 1\n",
    "    floor_plan_matrix[ROWS-1][i] = 1\n",
    "\n",
    "for i in range (ROWS):\n",
    "    floor_plan_matrix[i][0] = 1\n",
    "    floor_plan_matrix[i][COLS-1] = 1\n",
    "\n",
    "obj_types = [[Wall, Walls], [Floor, Floors]]\n",
    "for i in range (ROWS):\n",
    "    for j in range (COLS):\n",
    "        obj_class, obj_sprite = obj_types[floor_plan_matrix[i][j]]\n",
    "        object = obj_class([START_X+SIZE/2 + j*SIZE, START_Y+SIZE/2 + i*SIZE])\n",
    "        obj_sprite.add(object)\n"
   ]
  },
  {
   "cell_type": "code",
   "execution_count": 36,
   "metadata": {},
   "outputs": [
    {
     "ename": "KeyboardInterrupt",
     "evalue": "",
     "output_type": "error",
     "traceback": [
      "\u001b[0;31m---------------------------------------------------------------------------\u001b[0m",
      "\u001b[0;31mKeyboardInterrupt\u001b[0m                         Traceback (most recent call last)",
      "Cell \u001b[0;32mIn[36], line 15\u001b[0m\n\u001b[1;32m     12\u001b[0m Walls\u001b[39m.\u001b[39mupdate()\n\u001b[1;32m     14\u001b[0m \u001b[39m# Draw sprites\u001b[39;00m\n\u001b[0;32m---> 15\u001b[0m Floors\u001b[39m.\u001b[39;49mdraw(screen)\n\u001b[1;32m     16\u001b[0m Walls\u001b[39m.\u001b[39mdraw(screen)\n\u001b[1;32m     18\u001b[0m \u001b[39m# Update the display\u001b[39;00m\n",
      "File \u001b[0;32m/Library/Frameworks/Python.framework/Versions/3.12/lib/python3.12/site-packages/pygame/sprite.py:572\u001b[0m, in \u001b[0;36mAbstractGroup.draw\u001b[0;34m(self, surface, bgsurf, special_flags)\u001b[0m\n\u001b[1;32m    567\u001b[0m sprites \u001b[39m=\u001b[39m \u001b[39mself\u001b[39m\u001b[39m.\u001b[39msprites()\n\u001b[1;32m    568\u001b[0m \u001b[39mif\u001b[39;00m \u001b[39mhasattr\u001b[39m(surface, \u001b[39m\"\u001b[39m\u001b[39mblits\u001b[39m\u001b[39m\"\u001b[39m):\n\u001b[1;32m    569\u001b[0m     \u001b[39mself\u001b[39m\u001b[39m.\u001b[39mspritedict\u001b[39m.\u001b[39mupdate(\n\u001b[1;32m    570\u001b[0m         \u001b[39mzip\u001b[39m(\n\u001b[1;32m    571\u001b[0m             sprites,\n\u001b[0;32m--> 572\u001b[0m             surface\u001b[39m.\u001b[39;49mblits(\n\u001b[1;32m    573\u001b[0m                 (spr\u001b[39m.\u001b[39;49mimage, spr\u001b[39m.\u001b[39;49mrect, \u001b[39mNone\u001b[39;49;00m, special_flags) \u001b[39mfor\u001b[39;49;00m spr \u001b[39min\u001b[39;49;00m sprites\n\u001b[1;32m    574\u001b[0m             ),\n\u001b[1;32m    575\u001b[0m         )\n\u001b[1;32m    576\u001b[0m     )\n\u001b[1;32m    577\u001b[0m \u001b[39melse\u001b[39;00m:\n\u001b[1;32m    578\u001b[0m     \u001b[39mfor\u001b[39;00m spr \u001b[39min\u001b[39;00m sprites:\n",
      "File \u001b[0;32m/Library/Frameworks/Python.framework/Versions/3.12/lib/python3.12/site-packages/pygame/sprite.py:573\u001b[0m, in \u001b[0;36m<genexpr>\u001b[0;34m(.0)\u001b[0m\n\u001b[1;32m    567\u001b[0m sprites \u001b[39m=\u001b[39m \u001b[39mself\u001b[39m\u001b[39m.\u001b[39msprites()\n\u001b[1;32m    568\u001b[0m \u001b[39mif\u001b[39;00m \u001b[39mhasattr\u001b[39m(surface, \u001b[39m\"\u001b[39m\u001b[39mblits\u001b[39m\u001b[39m\"\u001b[39m):\n\u001b[1;32m    569\u001b[0m     \u001b[39mself\u001b[39m\u001b[39m.\u001b[39mspritedict\u001b[39m.\u001b[39mupdate(\n\u001b[1;32m    570\u001b[0m         \u001b[39mzip\u001b[39m(\n\u001b[1;32m    571\u001b[0m             sprites,\n\u001b[1;32m    572\u001b[0m             surface\u001b[39m.\u001b[39mblits(\n\u001b[0;32m--> 573\u001b[0m                 (spr\u001b[39m.\u001b[39mimage, spr\u001b[39m.\u001b[39mrect, \u001b[39mNone\u001b[39;00m, special_flags) \u001b[39mfor\u001b[39;00m spr \u001b[39min\u001b[39;00m sprites\n\u001b[1;32m    574\u001b[0m             ),\n\u001b[1;32m    575\u001b[0m         )\n\u001b[1;32m    576\u001b[0m     )\n\u001b[1;32m    577\u001b[0m \u001b[39melse\u001b[39;00m:\n\u001b[1;32m    578\u001b[0m     \u001b[39mfor\u001b[39;00m spr \u001b[39min\u001b[39;00m sprites:\n",
      "\u001b[0;31mKeyboardInterrupt\u001b[0m: "
     ]
    }
   ],
   "source": [
    "running = True\n",
    "while running:\n",
    "    for event in pygame.event.get():\n",
    "        if event.type == pygame.QUIT:\n",
    "            running = False\n",
    "\n",
    "    # Fill the screen with a color\n",
    "    screen.fill((255, 255, 255))  # Fill with white color\n",
    "\n",
    "    # Update sprites\n",
    "    Floors.update()\n",
    "    Walls.update()\n",
    "    \n",
    "    # Draw sprites\n",
    "    Floors.draw(screen)\n",
    "    Walls.draw(screen)\n",
    "\n",
    "    # Update the display\n",
    "    pygame.display.flip()\n",
    "\n",
    "# Quit Pygame\n",
    "pygame.quit()\n"
   ]
  }
 ],
 "metadata": {
  "kernelspec": {
   "display_name": "Python 3",
   "language": "python",
   "name": "python3"
  },
  "language_info": {
   "codemirror_mode": {
    "name": "ipython",
    "version": 3
   },
   "file_extension": ".py",
   "mimetype": "text/x-python",
   "name": "python",
   "nbconvert_exporter": "python",
   "pygments_lexer": "ipython3",
   "version": "3.12.2"
  },
  "orig_nbformat": 4
 },
 "nbformat": 4,
 "nbformat_minor": 2
}
